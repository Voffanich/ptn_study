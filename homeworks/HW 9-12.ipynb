{
 "cells": [
  {
   "cell_type": "code",
   "execution_count": 8,
   "metadata": {},
   "outputs": [],
   "source": [
    "def whos_first(p1: str, p2: str):\n",
    "    p1_time = 0\n",
    "    p2_time = 0\n",
    "    \n",
    "    for i in p1:\n",
    "        if i == \" \":\n",
    "            p1_time += 1\n",
    "        else:\n",
    "            break\n",
    "      \n",
    "    for i in p2:\n",
    "        if i == \" \":\n",
    "            p2_time += 1\n",
    "        else:\n",
    "            break         \n",
    "    \n",
    "    \n",
    "    if p1_time == p2_time:\n",
    "        return \"tie\"\n",
    "    elif p1_time > p2_time:\n",
    "        return \"p2\"\n",
    "    elif p1_time < p2_time:\n",
    "        return \"p1\"\n",
    "    else:\n",
    "        return \"Hernya kakaya-to\""
   ]
  },
  {
   "cell_type": "code",
   "execution_count": 12,
   "metadata": {},
   "outputs": [
    {
     "name": "stdout",
     "output_type": "stream",
     "text": [
      "4\n",
      "5\n"
     ]
    },
    {
     "data": {
      "text/plain": [
       "'p1'"
      ]
     },
     "execution_count": 12,
     "metadata": {},
     "output_type": "execute_result"
    }
   ],
   "source": [
    "whos_first('    jj  ', '     dlkj        ')"
   ]
  },
  {
   "cell_type": "code",
   "execution_count": 9,
   "metadata": {},
   "outputs": [],
   "source": [
    "def solve_hanoi_tower(discs):\n",
    "    return pow(2,discs) - 1\n",
    "    \n",
    "    \n",
    "    \n",
    "\n",
    "    \n",
    "      "
   ]
  },
  {
   "cell_type": "code",
   "execution_count": null,
   "metadata": {},
   "outputs": [],
   "source": [
    "def calc_dice_scores(lst):\n",
    "    score = 0\n",
    "    for k, v in lst:\n",
    "        if k == v:\n",
    "            score = 0\n",
    "            break\n",
    "        else:\n",
    "            score = score + k + v\n",
    "    return score"
   ]
  },
  {
   "cell_type": "code",
   "execution_count": 16,
   "metadata": {},
   "outputs": [],
   "source": [
    "def any_duplicates(square):\n",
    "    figures = []\n",
    "    for row in square:\n",
    "        for k in row:\n",
    "            figures.append(k)\n",
    "    for i in figures:\n",
    "        if figures.count(i) > 1:\n",
    "            return True\n",
    "            break\n",
    "    return False\n",
    "    # print(figures)\n",
    "            "
   ]
  },
  {
   "cell_type": "code",
   "execution_count": 19,
   "metadata": {},
   "outputs": [
    {
     "data": {
      "text/plain": [
       "False"
      ]
     },
     "execution_count": 19,
     "metadata": {},
     "output_type": "execute_result"
    }
   ],
   "source": [
    "any_duplicates([[1,2,3], [4,5,6], [7,8,9]])"
   ]
  },
  {
   "cell_type": "code",
   "execution_count": null,
   "metadata": {},
   "outputs": [],
   "source": []
  }
 ],
 "metadata": {
  "interpreter": {
   "hash": "b3ba2566441a7c06988d0923437866b63cedc61552a5af99d1f4fb67d367b25f"
  },
  "kernelspec": {
   "display_name": "Python 3.9.7 ('base')",
   "language": "python",
   "name": "python3"
  },
  "language_info": {
   "codemirror_mode": {
    "name": "ipython",
    "version": 3
   },
   "file_extension": ".py",
   "mimetype": "text/x-python",
   "name": "python",
   "nbconvert_exporter": "python",
   "pygments_lexer": "ipython3",
   "version": "3.9.7"
  },
  "orig_nbformat": 4
 },
 "nbformat": 4,
 "nbformat_minor": 2
}
