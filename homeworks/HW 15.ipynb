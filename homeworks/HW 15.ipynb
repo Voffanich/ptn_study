{
 "cells": [
  {
   "cell_type": "code",
   "execution_count": 1,
   "metadata": {},
   "outputs": [],
   "source": [
    "class Employee():\n",
    "    \n",
    "    def __init__(self, name, last_name, salary):\n",
    "        self.first_name = name\n",
    "        self.last_name = last_name\n",
    "        self.salary = salary\n",
    "        \n",
    "    @classmethod    \n",
    "    def from_string(self, string):\n",
    "        \n",
    "        emp = string.split('-')\n",
    "        self.first_name = emp[0]\n",
    "        self.last_name = emp[1]\n",
    "        self.salary = int(emp[2])\n",
    "        \n",
    "        employee = Employee(self.first_name, self.last_name, self.salary)\n",
    "        \n",
    "        return employee"
   ]
  },
  {
   "cell_type": "code",
   "execution_count": null,
   "metadata": {},
   "outputs": [],
   "source": []
  }
 ],
 "metadata": {
  "interpreter": {
   "hash": "183bbf6827d058c2a2fb0f4acdc0420849dda2b4380af0e437e38c64d798d8b7"
  },
  "kernelspec": {
   "display_name": "Python 3.9.7 ('base')",
   "language": "python",
   "name": "python3"
  },
  "language_info": {
   "codemirror_mode": {
    "name": "ipython",
    "version": 3
   },
   "file_extension": ".py",
   "mimetype": "text/x-python",
   "name": "python",
   "nbconvert_exporter": "python",
   "pygments_lexer": "ipython3",
   "version": "3.9.7"
  },
  "orig_nbformat": 4
 },
 "nbformat": 4,
 "nbformat_minor": 2
}
