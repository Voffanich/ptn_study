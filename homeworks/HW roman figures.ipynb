{
 "cells": [
  {
   "cell_type": "code",
   "execution_count": 64,
   "metadata": {},
   "outputs": [],
   "source": [
    "def parse_to_arabic(roman_figure):\n",
    "    \n",
    "    roman_symbols = {'I': 1, 'V': 5, 'X': 10, 'L': 50, 'C': 100, 'D': 500, 'M': 1000}\n",
    "    arabic_figures: list = []\n",
    "    arabic_number: int = 0\n",
    "    \n",
    "    \n",
    "    for symbol in roman_figure:\n",
    "        \n",
    "        arabic_figures.append(roman_symbols[symbol])\n",
    "        \n",
    "    for i in range(len(arabic_figures)):\n",
    "        if i == len(arabic_figures)-1:\n",
    "            arabic_number += arabic_figures[i] \n",
    "        else: \n",
    "            if arabic_figures[i] < arabic_figures[i + 1]:\n",
    "                arabic_number -= arabic_figures[i]\n",
    "            else:\n",
    "                arabic_number += arabic_figures[i]\n",
    "           \n",
    "        \n",
    "    return arabic_number\n",
    "    \n",
    "    "
   ]
  },
  {
   "cell_type": "code",
   "execution_count": 63,
   "metadata": {},
   "outputs": [
    {
     "data": {
      "text/plain": [
       "993"
      ]
     },
     "execution_count": 63,
     "metadata": {},
     "output_type": "execute_result"
    }
   ],
   "source": [
    "parse_to_arabic('CMXCIII')"
   ]
  },
  {
   "cell_type": "code",
   "execution_count": 143,
   "metadata": {},
   "outputs": [],
   "source": [
    "def parse_to_roman(number):\n",
    "    \n",
    "    roman_symbols = {1: 'I', 2: 'II', 3: 'III', 5: 'V', 10: 'X', 50: 'L', 100: 'C', 500: 'D', 1000: 'M'}\n",
    "    rev_figs :list[int] = []\n",
    "    figs :list[int] = []\n",
    "    roman_number = ''    \n",
    "    \n",
    "    \n",
    "    while number > 0:\n",
    "        digit = number % 10\n",
    "        rev_figs.append(digit)\n",
    "        number = number // 10\n",
    "        \n",
    "    figs = list(reversed(rev_figs))\n",
    "    \n",
    "    dec = len(figs)-1    # количество разрядов\n",
    "    \n",
    "    for fig in figs:\n",
    "        \n",
    "        dec_fig = fig * 10**dec     # абсолютное значение разряда\n",
    "        \n",
    "        if fig != 0:\n",
    "            if dec_fig in roman_symbols:\n",
    "                roman_number += roman_symbols[dec_fig]\n",
    "            elif fig < 4:\n",
    "                roman_number += roman_symbols[10**dec]*fig\n",
    "            elif 5 < fig < 9:\n",
    "                roman_number += roman_symbols[5*10**dec] + roman_symbols[10**dec]*(fig-5)\n",
    "            else:\n",
    "                \n",
    "        \n",
    "        dec -=1\n",
    "        \n",
    "            \n",
    "    print(roman_number)\n",
    "    \n",
    "    return figs"
   ]
  },
  {
   "cell_type": "code",
   "execution_count": 145,
   "metadata": {},
   "outputs": [
    {
     "name": "stdout",
     "output_type": "stream",
     "text": [
      "LXI\n"
     ]
    },
    {
     "data": {
      "text/plain": [
       "[6, 1]"
      ]
     },
     "execution_count": 145,
     "metadata": {},
     "output_type": "execute_result"
    }
   ],
   "source": [
    "parse_to_roman(61)"
   ]
  },
  {
   "cell_type": "code",
   "execution_count": null,
   "metadata": {},
   "outputs": [],
   "source": []
  }
 ],
 "metadata": {
  "interpreter": {
   "hash": "b3ba2566441a7c06988d0923437866b63cedc61552a5af99d1f4fb67d367b25f"
  },
  "kernelspec": {
   "display_name": "Python 3.9.7 ('base')",
   "language": "python",
   "name": "python3"
  },
  "language_info": {
   "codemirror_mode": {
    "name": "ipython",
    "version": 3
   },
   "file_extension": ".py",
   "mimetype": "text/x-python",
   "name": "python",
   "nbconvert_exporter": "python",
   "pygments_lexer": "ipython3",
   "version": "3.9.7"
  },
  "orig_nbformat": 4
 },
 "nbformat": 4,
 "nbformat_minor": 2
}
