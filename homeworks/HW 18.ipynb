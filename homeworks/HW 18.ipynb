{
 "cells": [
  {
   "cell_type": "code",
   "execution_count": 92,
   "metadata": {},
   "outputs": [],
   "source": [
    "class Beverage():\n",
    "    \n",
    "    PRICES = {\"Strawberries\" : 1.5, \n",
    "              \"Banana\": 0.5,\n",
    "              \"Mango\": 2.5,\n",
    "              \"Blueberries\": 1,\n",
    "              \"Raspberries\": 1, \n",
    "              \"Apple\": 1.75,\n",
    "              \"Pineapple\": 3.5}\n",
    "    \n",
    "    def __init__(self, ings):\n",
    "        \n",
    "        self.ingredients = ings\n",
    "        \n",
    "    def get_cost(self):\n",
    "             \n",
    "        self.cost = 0\n",
    "               \n",
    "        for ing in self.ingredients:\n",
    "            \n",
    "            self.cost += self.PRICES.get(ing) \n",
    "                          \n",
    "        cost = format(self.cost, '.2f')\n",
    "        \n",
    "        return \"$\" + str(cost)\n",
    "        \n",
    "    def get_price(self):\n",
    "        \n",
    "        self.price = self.cost*2.5\n",
    "        \n",
    "        price = format(self.price, '.2f')\n",
    "        \n",
    "        return \"$\" + str(price)\n",
    "        \n",
    "    def get_name(self):\n",
    "        \n",
    "        name = \"\"\n",
    "        \n",
    "        for ing in sorted(self.ingredients):\n",
    "            \n",
    "            name += ing + \" \"\n",
    "            \n",
    "            name = name.replace('ies', 'y')\n",
    "            \n",
    "        if len(self.ingredients) == 1:\n",
    "            \n",
    "            name += \"Smoothie\"\n",
    "        \n",
    "        elif len(self.ingredients) > 1:\n",
    "            \n",
    "            name += \"Fusion\"\n",
    "            \n",
    "        return name\n",
    "        \n",
    "        \n"
   ]
  },
  {
   "cell_type": "code",
   "execution_count": 93,
   "metadata": {},
   "outputs": [],
   "source": [
    "s1 = Beverage(['Banana'])\n",
    "s2 = Beverage(['Raspberries', 'Strawberries', 'Blueberries'])"
   ]
  },
  {
   "cell_type": "code",
   "execution_count": 94,
   "metadata": {},
   "outputs": [
    {
     "name": "stdout",
     "output_type": "stream",
     "text": [
      "['Banana']\n",
      "$0.50\n",
      "$1.25\n",
      "Banana Smoothie\n",
      "['Raspberries', 'Strawberries', 'Blueberries']\n",
      "$3.50\n",
      "$8.75\n",
      "Blueberry Raspberry Strawberry Fusion\n"
     ]
    }
   ],
   "source": [
    "print(s1.ingredients)\n",
    "print(s1.get_cost())\n",
    "print(s1.get_price())\n",
    "print(s1.get_name())\n",
    "print(s2.ingredients)\n",
    "print(s2.get_cost())\n",
    "print(s2.get_price())\n",
    "print(s2.get_name())"
   ]
  },
  {
   "cell_type": "code",
   "execution_count": 73,
   "metadata": {},
   "outputs": [
    {
     "name": "stdout",
     "output_type": "stream",
     "text": [
      "2.1\n"
     ]
    }
   ],
   "source": []
  },
  {
   "cell_type": "code",
   "execution_count": null,
   "metadata": {},
   "outputs": [],
   "source": []
  }
 ],
 "metadata": {
  "interpreter": {
   "hash": "183bbf6827d058c2a2fb0f4acdc0420849dda2b4380af0e437e38c64d798d8b7"
  },
  "kernelspec": {
   "display_name": "Python 3.9.7 ('base')",
   "language": "python",
   "name": "python3"
  },
  "language_info": {
   "codemirror_mode": {
    "name": "ipython",
    "version": 3
   },
   "file_extension": ".py",
   "mimetype": "text/x-python",
   "name": "python",
   "nbconvert_exporter": "python",
   "pygments_lexer": "ipython3",
   "version": "3.9.7"
  },
  "orig_nbformat": 4
 },
 "nbformat": 4,
 "nbformat_minor": 2
}
