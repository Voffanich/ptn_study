{
 "cells": [
  {
   "cell_type": "code",
   "execution_count": 5,
   "metadata": {},
   "outputs": [],
   "source": [
    "def is_full_house1(hand: list = []):\n",
    "    jacket_1 = hand[0]\n",
    "    jacket_2 = ''\n",
    "    card_1 = 0\n",
    "    card_2 = 0\n",
    "    result = True\n",
    "    \n",
    "    for card in hand:\n",
    "        if card != jacket_1:\n",
    "            jacket_2 = card\n",
    "            break\n",
    "    \n",
    "    card_1 = hand.count(jacket_1)\n",
    "    card_2 = hand.count(jacket_2)\n",
    "    \n",
    "    card_2_q = 0\n",
    "               \n",
    "    if card_1 == 2:\n",
    "        card_2_q = 3\n",
    "    elif card_1 == 3:\n",
    "        card_2_q = 2\n",
    "    if card_2 == card_2_q:\n",
    "        result = True\n",
    "    else:\n",
    "        result = False\n",
    "        \n",
    "    return result\n",
    "\n",
    "def is_full_house(hand):\n",
    "    return all([hand.count(i) >= 2 for i in hand])"
   ]
  },
  {
   "cell_type": "code",
   "execution_count": 6,
   "metadata": {},
   "outputs": [
    {
     "name": "stdout",
     "output_type": "stream",
     "text": [
      "True\n"
     ]
    }
   ],
   "source": [
    "print(is_full_house(['A', 'Q', 'Q', 'A', 'Q']))\n"
   ]
  },
  {
   "cell_type": "code",
   "execution_count": 4,
   "metadata": {},
   "outputs": [],
   "source": [
    "def count_vowels_1(string: str = ''):\n",
    "    vowels = ['a', 'e', 'i', 'o', 'u', 'y']\n",
    "    result = []\n",
    "    for i in string:\n",
    "        for vow in vowels:\n",
    "            if i == vow:\n",
    "                result.append(i)\n",
    "    return len(result)\n",
    "    \n",
    "def count_vowels2(string: str = ''):\n",
    "    vowels = 'aeiouy'\n",
    "    result = []\n",
    "    for i in string:\n",
    "        if i in vowels:\n",
    "            result.append(i)\n",
    "    return len(result)\n",
    "\n",
    "def count_vowels(string):\n",
    "    return sum([1 for x in string.lower() if x in 'aeiouy'])"
   ]
  },
  {
   "cell_type": "code",
   "execution_count": 6,
   "metadata": {},
   "outputs": [
    {
     "data": {
      "text/plain": [
       "2"
      ]
     },
     "execution_count": 6,
     "metadata": {},
     "output_type": "execute_result"
    }
   ],
   "source": [
    "count_vowels('abcde')"
   ]
  },
  {
   "cell_type": "code",
   "execution_count": 9,
   "metadata": {},
   "outputs": [],
   "source": [
    "class IceCream:\n",
    "    def __init__(self, flavor, sprinlkles):\n",
    "        self.flavor = flavor\n",
    "        self.sprinkles = sprinlkles\n",
    "        \n",
    "ice1 = IceCream('Chocolate', 13)\n",
    "ice2 = IceCream('Vanilla', 0)\n",
    "ice3 = IceCream('Strawberry', 7)\n",
    "ice4 = IceCream('Plain', 18)\n",
    "ice5 = IceCream('ChocolateChip', 3)\n",
    "        \n",
    "def sweetest_icecream1(lst: list = []):\n",
    "    aroma_sweetness = {'Plain':0, 'Vanilla':5, 'ChocolateChip':5, 'Strawberry':10, 'Chocolate':10}\n",
    "    sweetness = 0\n",
    "    \n",
    "    for icecream in lst:\n",
    "        sugar = aroma_sweetness[icecream.flavor] + icecream.sprinkles\n",
    "        if sugar > sweetness:\n",
    "            sweetness = sugar\n",
    "    \n",
    "    return sweetness\n",
    "\n",
    "def sweetest_icecream(lst):\n",
    "    aroma_sweetness = {'Plain':0, 'Vanilla':5, 'ChocolateChip':5, 'Strawberry':10, 'Chocolate':10}\n",
    "    return max([icecream.sprinkles + aroma_sweetness[icecream.flavor] for icecream in lst])"
   ]
  },
  {
   "cell_type": "code",
   "execution_count": 10,
   "metadata": {},
   "outputs": [
    {
     "name": "stdout",
     "output_type": "stream",
     "text": [
      "23\n",
      "23\n",
      "17\n"
     ]
    }
   ],
   "source": [
    "print(sweetest_icecream([ice1, ice2, ice3, ice4, ice5]))\n",
    "print(sweetest_icecream([ice1, ice3]))\n",
    "print(sweetest_icecream([ice3, ice5]))"
   ]
  },
  {
   "cell_type": "code",
   "execution_count": 11,
   "metadata": {},
   "outputs": [],
   "source": [
    "def check_sequence1(sec: list = []):\n",
    "    \n",
    "    decreasing_flag = 0\n",
    "    increasing_flag = 0\n",
    "    \n",
    "    for i in range(len(sec)-1):\n",
    "        if sec[i+1] < sec[i] and increasing_flag == 0:\n",
    "            decreasing_flag +=1\n",
    "        elif sec[i+1] > sec[i] and decreasing_flag == 0:\n",
    "            increasing_flag += 1\n",
    "        else:\n",
    "            return 0\n",
    "        \n",
    "    if increasing_flag == 0:\n",
    "        return -1\n",
    "    elif decreasing_flag == 0:\n",
    "        return 1\n",
    "    \n",
    "def check_sequence(sec):\n",
    "    if sorted(set(sec)) == sec:\n",
    "        return 1\n",
    "    elif sorted(set(sec), reverse=True) == sec:\n",
    "        return -1\n",
    "    else:\n",
    "        return 0\n",
    "     "
   ]
  },
  {
   "cell_type": "code",
   "execution_count": null,
   "metadata": {},
   "outputs": [],
   "source": []
  }
 ],
 "metadata": {
  "interpreter": {
   "hash": "183bbf6827d058c2a2fb0f4acdc0420849dda2b4380af0e437e38c64d798d8b7"
  },
  "kernelspec": {
   "display_name": "Python 3.9.7 ('base')",
   "language": "python",
   "name": "python3"
  },
  "language_info": {
   "codemirror_mode": {
    "name": "ipython",
    "version": 3
   },
   "file_extension": ".py",
   "mimetype": "text/x-python",
   "name": "python",
   "nbconvert_exporter": "python",
   "pygments_lexer": "ipython3",
   "version": "3.9.7"
  },
  "orig_nbformat": 4
 },
 "nbformat": 4,
 "nbformat_minor": 2
}
