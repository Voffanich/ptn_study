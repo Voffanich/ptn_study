{
 "cells": [
  {
   "cell_type": "code",
   "execution_count": 3,
   "metadata": {},
   "outputs": [],
   "source": [
    "def is_full_house(hand: list = []):\n",
    "    jacket_1 = hand[0]\n",
    "    jacket_2 = ''\n",
    "    card_1 = 0\n",
    "    card_2 = 0\n",
    "    result = True\n",
    "    \n",
    "    for card in hand:\n",
    "        if card != jacket_1:\n",
    "            jacket_2 = card\n",
    "            break\n",
    "    \n",
    "    card_1 = hand.count(jacket_1)\n",
    "    card_2 = hand.count(jacket_2)\n",
    "    \n",
    "    card_2_q = 0\n",
    "               \n",
    "    if card_1 == 2:\n",
    "        card_2_q = 3\n",
    "    elif card_1 == 3:\n",
    "        card_2_q = 2\n",
    "    if card_2 == card_2_q:\n",
    "        result = True\n",
    "    else:\n",
    "        result = False\n",
    "        \n",
    "    return result"
   ]
  },
  {
   "cell_type": "code",
   "execution_count": 4,
   "metadata": {},
   "outputs": [
    {
     "name": "stdout",
     "output_type": "stream",
     "text": [
      "True\n"
     ]
    }
   ],
   "source": [
    "print(is_full_house(['A', 'Q', 'Q', 'A', 'Q']))\n"
   ]
  },
  {
   "cell_type": "code",
   "execution_count": 5,
   "metadata": {},
   "outputs": [],
   "source": [
    "def count_vowels_1(string: str = ''):\n",
    "    vowels = ['a', 'e', 'i', 'o', 'u', 'y']\n",
    "    result = []\n",
    "    for i in string:\n",
    "        for vow in vowels:\n",
    "            if i == vow:\n",
    "                result.append(i)\n",
    "    return len(result)\n",
    "    \n",
    "def count_vowels(string: str = ''):\n",
    "    vowels = 'aeiouy'\n",
    "    result = []\n",
    "    for i in string:\n",
    "        if i in vowels:\n",
    "            result.append(i)\n",
    "    return len(result)"
   ]
  },
  {
   "cell_type": "code",
   "execution_count": 6,
   "metadata": {},
   "outputs": [
    {
     "data": {
      "text/plain": [
       "2"
      ]
     },
     "execution_count": 6,
     "metadata": {},
     "output_type": "execute_result"
    }
   ],
   "source": [
    "count_vowels('abcde')"
   ]
  },
  {
   "cell_type": "code",
   "execution_count": null,
   "metadata": {},
   "outputs": [],
   "source": []
  }
 ],
 "metadata": {
  "interpreter": {
   "hash": "183bbf6827d058c2a2fb0f4acdc0420849dda2b4380af0e437e38c64d798d8b7"
  },
  "kernelspec": {
   "display_name": "Python 3.9.7 ('base')",
   "language": "python",
   "name": "python3"
  },
  "language_info": {
   "codemirror_mode": {
    "name": "ipython",
    "version": 3
   },
   "file_extension": ".py",
   "mimetype": "text/x-python",
   "name": "python",
   "nbconvert_exporter": "python",
   "pygments_lexer": "ipython3",
   "version": "3.9.7"
  },
  "orig_nbformat": 4
 },
 "nbformat": 4,
 "nbformat_minor": 2
}
