{
 "cells": [
  {
   "cell_type": "code",
   "execution_count": null,
   "metadata": {},
   "outputs": [
    {
     "name": "stdout",
     "output_type": "stream",
     "text": [
      "*\n",
      "**\n",
      "***\n",
      "****\n",
      "*****\n"
     ]
    }
   ],
   "source": [
    "rows = int(input(\"Number of rows please: \"))\n",
    "str = ''\n",
    "\n",
    "for i in range(rows):\n",
    "    str += '*'\n",
    "    print(str)\n",
    "    "
   ]
  },
  {
   "cell_type": "code",
   "execution_count": null,
   "metadata": {},
   "outputs": [
    {
     "name": "stdout",
     "output_type": "stream",
     "text": [
      "0 is EVEN\n",
      "1 is ODD\n",
      "2 is EVEN\n",
      "3 is ODD\n",
      "4 is EVEN\n",
      "5 is ODD\n"
     ]
    }
   ],
   "source": [
    "nums = int(input(\"Please, provide with a number: \"))\n",
    "\n",
    "for i in range(nums+1):\n",
    "    if i%2 == 0:\n",
    "        print(f'{i} is EVEN')\n",
    "    else:\n",
    "        print(f'{i} is ODD')"
   ]
  },
  {
   "cell_type": "code",
   "execution_count": 43,
   "metadata": {},
   "outputs": [
    {
     "name": "stdout",
     "output_type": "stream",
     "text": [
      "3\n",
      "Palindrome\n",
      "digit_list  [1, 2, 1]\n",
      "digit_list_r  [1, 2, 1]\n"
     ]
    }
   ],
   "source": [
    "number = 121\n",
    "\n",
    "# ниже ваше решение\n",
    "rest = 1\n",
    "x = 10\n",
    "digit_list = []\n",
    "digit_list_r = []\n",
    "\n",
    "while rest >= 1:\n",
    "    rest = number / x #check if the number is bigger than current digit    \n",
    "    digit = number % x #get current digit    \n",
    "    number //= 10    \n",
    "    digit_list.append(digit)\n",
    "    \n",
    "for i in range(len(digit_list)):   \n",
    "    digit_list_r.append(digit_list[-i-1])\n",
    "    \n",
    "counter = 1\n",
    "for i in range(len(digit_list)-1):\n",
    "    if digit_list[i] == digit_list_r[i]:\n",
    "        counter += 1\n",
    "        \n",
    "print(counter)       \n",
    "if counter == len(digit_list):\n",
    "    print('Palindrome')\n",
    "else:\n",
    "    print('No Palindrome')\n",
    "    \n",
    "         \n",
    "print('digit_list ', digit_list)\n",
    "print('digit_list_r ', digit_list_r)\n",
    "               "
   ]
  },
  {
   "cell_type": "code",
   "execution_count": 48,
   "metadata": {},
   "outputs": [
    {
     "name": "stdout",
     "output_type": "stream",
     "text": [
      "The number is bigger than your guess\n",
      "The number is bigger than your guess\n",
      "The number is smaller than your guess\n",
      "The number is bigger than your guess\n",
      "You're absolutely right, you son of a bitch!\n"
     ]
    }
   ],
   "source": [
    "import random\n",
    "if_win = False\n",
    "\n",
    "number = random.randint(1,50)\n",
    "\n",
    "for i in range(5):\n",
    "    guess = int(input(\"Please, provide a number between 1 and 50: \"))\n",
    "    if guess == number:\n",
    "        print('You\\'re absolutely right, you son of a bitch!')\n",
    "        if_win = True\n",
    "    elif guess > number:\n",
    "        print('The number is smaller than your guess')\n",
    "    elif guess < number:\n",
    "        print('The number is bigger than your guess')\n",
    "\n",
    "if not if_win:\n",
    "    print(f'You are fucking looser! My number was {number}') "
   ]
  },
  {
   "cell_type": "code",
   "execution_count": 68,
   "metadata": {},
   "outputs": [
    {
     "name": "stdout",
     "output_type": "stream",
     "text": [
      "Right! Good job!\n",
      "Right! Good job!\n",
      "Nope :)\n",
      "Nope :)\n",
      "Nope :)\n",
      "Nope :)\n",
      "Nope :)\n",
      "Right! Good job!\n",
      "Nope :)\n"
     ]
    }
   ],
   "source": [
    "import random\n",
    "\n",
    "repeat = True\n",
    "guess_table = {'R':1, 'S':2, 'P':3}\n",
    "\n",
    "while repeat:\n",
    "    \n",
    "    hand = random.randint(1,3)\n",
    "    guess = input(\"Please, your guess R, S, P: \")\n",
    "    if guess_table[guess] == hand:\n",
    "        print('Right! Good job!')\n",
    "        if input('Would you like to continue? y/n ') == 'y':\n",
    "            repeat = True \n",
    "        elif input('Would you like to continue? y/n ') == 'n':\n",
    "            repeat = False\n",
    "    else:\n",
    "        print('Nope :)')\n",
    "        if input('Would you like to continue? y/n ') == 'y':\n",
    "            repeat = True\n",
    "        elif input('Would you like to continue? y/n ') == 'n':\n",
    "            repeat = False\n",
    "    \n",
    "    \n",
    "    "
   ]
  },
  {
   "cell_type": "code",
   "execution_count": null,
   "metadata": {},
   "outputs": [],
   "source": []
  },
  {
   "cell_type": "code",
   "execution_count": null,
   "metadata": {},
   "outputs": [],
   "source": []
  }
 ],
 "metadata": {
  "interpreter": {
   "hash": "183bbf6827d058c2a2fb0f4acdc0420849dda2b4380af0e437e38c64d798d8b7"
  },
  "kernelspec": {
   "display_name": "Python 3.9.7 ('base')",
   "language": "python",
   "name": "python3"
  },
  "language_info": {
   "codemirror_mode": {
    "name": "ipython",
    "version": 3
   },
   "file_extension": ".py",
   "mimetype": "text/x-python",
   "name": "python",
   "nbconvert_exporter": "python",
   "pygments_lexer": "ipython3",
   "version": "3.9.7"
  },
  "orig_nbformat": 4
 },
 "nbformat": 4,
 "nbformat_minor": 2
}
