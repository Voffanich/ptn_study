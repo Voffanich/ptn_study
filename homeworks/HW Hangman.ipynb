{
 "cells": [
  {
   "cell_type": "code",
   "execution_count": 16,
   "metadata": {},
   "outputs": [],
   "source": [
    "class Hangman:\n",
    "    \n",
    "    \n",
    "    def __init__(self, err_number):\n",
    "        \n",
    "        self.__err_number = err_number\n",
    "        \n",
    "    def generate_word(self) -> str:\n",
    "        \n",
    "        import random\n",
    "        \n",
    "        self.__vocab_list = []\n",
    "        self.__vocab_file = open('WordsStockRus.txt', 'r')\n",
    "        \n",
    "        while True:\n",
    "            \n",
    "            line = self.__vocab_file.readline()\n",
    "            \n",
    "            if not line:\n",
    "                break\n",
    "            \n",
    "            self.__vocab_list.append(line.replace('\\n', ''))\n",
    "        \n",
    "        self.__vocab_file.close()\n",
    "        \n",
    "        self.word = list(self.__vocab_list[random.randint(0, len(self.__vocab_list))])\n",
    "        self.current_state = list(\"*\" * (len(self.word)))\n",
    "        \n",
    "        self.word_s = ''\n",
    "        \n",
    "        for letter in self.word:\n",
    "            self.word_s += str(letter)\n",
    "        \n",
    "        return self.word_s\n",
    "\n",
    "    def show_current_state(self):\n",
    "        \n",
    "        self.current_state_s = ''\n",
    "        \n",
    "        for letter in self.current_state:\n",
    "            self.current_state_s += str(letter)\n",
    "        \n",
    "        return self.current_state_s\n",
    "    \n",
    "    def guess(self, guess_letter):\n",
    "        \n",
    "        self.guessed_letters = []\n",
    "        self.guessed_letters.append(guess_letter)                 # список названных пользователем букв\n",
    "        \n",
    "        if len(guess_letter) > 1 or guess_letter not in \"абвгдеёжзиклмнопрстуфхцчшщъыьэюя\":\n",
    "            \n",
    "            return \"Please, provide one Russian letter!\"\n",
    "        \n",
    "        if guess_letter in self.word:\n",
    "            \n",
    "            for i in range(len(self.word)):\n",
    "                \n",
    "                if self.word[i] == guess_letter:\n",
    "                    \n",
    "                    self.current_state[i] = guess_letter\n",
    "                    \n",
    "            self.show_current_state\n",
    "                \n",
    "            return True\n",
    "        \n",
    "        else:\n",
    "            \n",
    "            self.__err_number -= 1\n",
    "            \n",
    "            return False\n",
    "        \n",
    "    def show_error_left(self):\n",
    "            \n",
    "        return self.__err_number\n",
    "    \n",
    "    def check_win(self):\n",
    "        \n",
    "        if '*' not in self.show_current_state():\n",
    "            return True\n",
    "        else:\n",
    "            return False"
   ]
  },
  {
   "cell_type": "code",
   "execution_count": 17,
   "metadata": {},
   "outputs": [
    {
     "name": "stdout",
     "output_type": "stream",
     "text": [
      "кромка\n",
      "******\n",
      "True\n",
      "*****а\n",
      "['а']\n",
      "Wrong guesses left: 3\n",
      "False\n"
     ]
    }
   ],
   "source": [
    "game = Hangman(3)\n",
    "print(game.generate_word())\n",
    "print(game.show_current_state())\n",
    "print(game.guess('а'))\n",
    "print(game.show_current_state())\n",
    "print(game.guessed_letters)\n",
    "print('Wrong guesses left: ' + str(game.show_error_left()))\n",
    "print(game.check_win())"
   ]
  },
  {
   "cell_type": "code",
   "execution_count": 19,
   "metadata": {},
   "outputs": [
    {
     "name": "stdout",
     "output_type": "stream",
     "text": [
      "Let's begin! You have to guess the word of 15 letters.\n",
      "***************\n",
      "Not this time) No \"\" in this word. The number of wrong guesses left is 2\n",
      "***************\n",
      "Good job! Your guess is right! Have a look at it's place in the word:\n",
      "***************\n",
      "Congratulations, you won! The word is \"воздухоплавание\"\n"
     ]
    }
   ],
   "source": [
    "g = Hangman(3)\n",
    "\n",
    "g.generate_word()\n",
    "print(f'Let\\'s begin! You have to guess the word of {len(g.show_current_state())} letters.')\n",
    "print(g.show_current_state())\n",
    "guess = input('Please, provide the first letter you think is in the word: ')\n",
    "\n",
    "while not g.check_win():\n",
    "    \n",
    "    if  g.guess(guess):\n",
    "        print(f'Good job! Your guess is right! Have a look at it\\'s place in the word:')\n",
    "        print(g.show_current_state())\n",
    "        if g.check_win:\n",
    "            print(f'Congratulations, you won! The word is \"{g.word_s}\"')\n",
    "            break\n",
    "    else:\n",
    "        print(f'Not this time) No \"{guess}\" in this word. The number of wrong guesses left is {g.show_error_left()}')\n",
    "        print(g.show_current_state())\n",
    "    \n",
    "    if g.show_error_left() == 0:\n",
    "        \n",
    "        print(f'You have no more tries. You lost! The word is \"{g.word_s}\"')\n",
    "        break\n",
    "    \n",
    "    guess = input('Please, provide the first letter you think is in the word: ')\n",
    "        \n",
    "\n",
    "     "
   ]
  },
  {
   "cell_type": "code",
   "execution_count": null,
   "metadata": {},
   "outputs": [],
   "source": []
  }
 ],
 "metadata": {
  "interpreter": {
   "hash": "b3ba2566441a7c06988d0923437866b63cedc61552a5af99d1f4fb67d367b25f"
  },
  "kernelspec": {
   "display_name": "Python 3.9.7 ('base')",
   "language": "python",
   "name": "python3"
  },
  "language_info": {
   "codemirror_mode": {
    "name": "ipython",
    "version": 3
   },
   "file_extension": ".py",
   "mimetype": "text/x-python",
   "name": "python",
   "nbconvert_exporter": "python",
   "pygments_lexer": "ipython3",
   "version": "3.9.7"
  },
  "orig_nbformat": 4
 },
 "nbformat": 4,
 "nbformat_minor": 2
}
