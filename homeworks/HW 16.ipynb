{
 "cells": [
  {
   "cell_type": "code",
   "execution_count": 26,
   "metadata": {},
   "outputs": [],
   "source": [
    "class Pizza():\n",
    "    \n",
    "    order_number = 0\n",
    "    \n",
    "    def __init__(self, *args):\n",
    "        \n",
    "        ings = list\n",
    "        \n",
    "        ings = [ing for ing in args]\n",
    "        \n",
    "        self.ingredients = ings\n",
    "        \n",
    "        # print('ings ', type(self.ingredients))\n",
    "        # print('Args', type(args))\n",
    "        \n",
    "        \n",
    "        Pizza.order_number += 1\n",
    "        self.order_number = Pizza.order_number\n",
    "        \n",
    "        # for i in args:\n",
    "        #     self.ingredients.append(i)\n",
    "            \n",
    "    @classmethod\n",
    "    def garden_feast(cls):\n",
    "        \n",
    "        # self.ingredients = ['spinach', 'olives', 'mushroom']\n",
    "        pizza = Pizza('spinach', 'olives', 'mushroom')\n",
    "        return pizza\n",
    "    \n",
    "    @classmethod   \n",
    "    def meat_festival(cls):\n",
    "        \n",
    "        # self.ingredients = ['beef', 'meatball', 'bacon']\n",
    "        pizza = Pizza('beef', 'meatball', 'bacon')\n",
    "        return pizza\n",
    "    \n",
    "    \n",
    "    @classmethod    \n",
    "    def hawaiian(cls):\n",
    "        \n",
    "        # self.ingredients = ['ham', 'pinapple']\n",
    "        pizza = Pizza('ham', 'pinapple')\n",
    "        return pizza\n",
    "    \n",
    "         "
   ]
  },
  {
   "cell_type": "code",
   "execution_count": 27,
   "metadata": {},
   "outputs": [],
   "source": [
    "\n",
    "p1 = Pizza('ham', 'beacon', 'pepper')\n",
    "p2 = Pizza.garden_feast()\n",
    "p3 = Pizza.hawaiian()"
   ]
  },
  {
   "cell_type": "code",
   "execution_count": 28,
   "metadata": {},
   "outputs": [
    {
     "name": "stdout",
     "output_type": "stream",
     "text": [
      "['ham', 'beacon', 'pepper']\n",
      "['spinach', 'olives', 'mushroom']\n",
      "['ham', 'pinapple']\n",
      "1\n",
      "2\n",
      "3\n"
     ]
    }
   ],
   "source": [
    "print(p1.ingredients)\n",
    "print(p2.ingredients)\n",
    "print(p3.ingredients)\n",
    "print(p1.order_number)\n",
    "print(p2.order_number)\n",
    "print(p3.order_number)"
   ]
  },
  {
   "cell_type": "code",
   "execution_count": null,
   "metadata": {},
   "outputs": [],
   "source": []
  }
 ],
 "metadata": {
  "interpreter": {
   "hash": "183bbf6827d058c2a2fb0f4acdc0420849dda2b4380af0e437e38c64d798d8b7"
  },
  "kernelspec": {
   "display_name": "Python 3.9.7 ('base')",
   "language": "python",
   "name": "python3"
  },
  "language_info": {
   "codemirror_mode": {
    "name": "ipython",
    "version": 3
   },
   "file_extension": ".py",
   "mimetype": "text/x-python",
   "name": "python",
   "nbconvert_exporter": "python",
   "pygments_lexer": "ipython3",
   "version": "3.9.7"
  },
  "orig_nbformat": 4
 },
 "nbformat": 4,
 "nbformat_minor": 2
}
