{
 "cells": [
  {
   "cell_type": "code",
   "execution_count": 11,
   "metadata": {},
   "outputs": [],
   "source": [
    "class Pagination:\n",
    "        \n",
    "    current_page = 1\n",
    "    visible_items = []\n",
    "    \n",
    "    \n",
    "    def __init__(self, lst, page_size):\n",
    "        from math import ceil\n",
    "        self.items = list(lst)\n",
    "        self.page_size = page_size\n",
    "        self.pages_quantity = ceil(len(self.items) / self.page_size)\n",
    "        self.l_page = self.pages_quantity  \n",
    "    \n",
    "    def get_visible_items(self):\n",
    "        \n",
    "        self.visible_items = self.items[(self.current_page * self.page_size - self.page_size):(self.current_page * self.page_size)]\n",
    "        return self.visible_items\n",
    "    \n",
    "    def prev_page(self):\n",
    "        \n",
    "        self.current_page -= 1\n",
    "        \n",
    "        if self.current_page < 1:\n",
    "            self.current_page = 1\n",
    "                \n",
    "        return self\n",
    "    \n",
    "    def next_page(self):\n",
    "        \n",
    "        self.current_page += 1\n",
    "        \n",
    "        if self.current_page > self.l_page:\n",
    "            self.current_page = self.l_page\n",
    "            \n",
    "        return self\n",
    "    \n",
    "    def first_page(self):\n",
    "        \n",
    "        self.current_page = 1\n",
    "        \n",
    "        return self\n",
    "    \n",
    "    def last_page(self):\n",
    "        \n",
    "        self.current_page = self.l_page\n",
    "        \n",
    "        return self\n",
    "    \n",
    "    def go_to_page(self, page):\n",
    "        \n",
    "        if page < 1:\n",
    "            self.current_page = 1\n",
    "        elif page > self.pages_quantity:\n",
    "            self.current_page = self.l_page\n",
    "        else:\n",
    "            self.current_page = page\n",
    "        return self\n",
    "            \n",
    "    def get_current_page(self):\n",
    "        \n",
    "        return self.current_page\n",
    "    \n",
    "    def get_page_size(self):\n",
    "        \n",
    "        return self.page_size\n",
    "    \n",
    "    def get_items(self):\n",
    "        \n",
    "        return self.items"
   ]
  },
  {
   "cell_type": "code",
   "execution_count": 12,
   "metadata": {},
   "outputs": [
    {
     "name": "stdout",
     "output_type": "stream",
     "text": [
      "Visible items:['a', 'b', 'c', 'd', 'e', 'f', 'g', 'h', 'i', 'j']\n",
      "Last page number is 3\n",
      "Visible items:['k', 'l', 'm', 'n', 'o', 'p', 'q', 'r', 's', 't']\n",
      "Visible items:['u', 'v', 'w', 'x', 'y', 'z']\n",
      "Visible items:['u', 'v', 'w', 'x', 'y', 'z']\n",
      "Visible items:['u', 'v', 'w', 'x', 'y', 'z']\n",
      "Visible items:['k', 'l', 'm', 'n', 'o', 'p', 'q', 'r', 's', 't']\n",
      "Visible items:['a', 'b', 'c', 'd', 'e', 'f', 'g', 'h', 'i', 'j']\n",
      "Visible items:['u', 'v', 'w', 'x', 'y', 'z']\n",
      "Visible items:['u', 'v', 'w', 'x', 'y', 'z']\n"
     ]
    }
   ],
   "source": [
    "p = Pagination('abcdefghijklmnopqrstuvwxyz', 10)\n",
    "print('Visible items:' + str(p.get_visible_items()))\n",
    "print(f'Last page number is {p.l_page}')\n",
    "p.next_page()\n",
    "print('Visible items:' + str(p.get_visible_items()))\n",
    "p.next_page()\n",
    "print('Visible items:' + str(p.get_visible_items()))\n",
    "p.next_page()\n",
    "print('Visible items:' + str(p.get_visible_items()))\n",
    "p.next_page().next_page().next_page().next_page()\n",
    "print('Visible items:' + str(p.get_visible_items()))\n",
    "p.prev_page()\n",
    "print('Visible items:' + str(p.get_visible_items()))\n",
    "p.first_page()\n",
    "print('Visible items:' + str(p.get_visible_items()))\n",
    "p.last_page()\n",
    "print('Visible items:' + str(p.get_visible_items()))\n",
    "p.go_to_page(7)\n",
    "print('Visible items:' + str(p.get_visible_items()))"
   ]
  },
  {
   "cell_type": "code",
   "execution_count": null,
   "metadata": {},
   "outputs": [],
   "source": []
  },
  {
   "cell_type": "code",
   "execution_count": null,
   "metadata": {},
   "outputs": [],
   "source": []
  }
 ],
 "metadata": {
  "interpreter": {
   "hash": "b3ba2566441a7c06988d0923437866b63cedc61552a5af99d1f4fb67d367b25f"
  },
  "kernelspec": {
   "display_name": "Python 3.9.7 ('base')",
   "language": "python",
   "name": "python3"
  },
  "language_info": {
   "codemirror_mode": {
    "name": "ipython",
    "version": 3
   },
   "file_extension": ".py",
   "mimetype": "text/x-python",
   "name": "python",
   "nbconvert_exporter": "python",
   "pygments_lexer": "ipython3",
   "version": "3.10.0"
  },
  "orig_nbformat": 4
 },
 "nbformat": 4,
 "nbformat_minor": 2
}
