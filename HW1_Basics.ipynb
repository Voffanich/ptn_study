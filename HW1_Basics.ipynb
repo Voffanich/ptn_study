{
 "cells": [
  {
   "cell_type": "code",
   "execution_count": 28,
   "metadata": {},
   "outputs": [
    {
     "ename": "TypeError",
     "evalue": "'str' object is not callable",
     "output_type": "error",
     "traceback": [
      "\u001b[1;31m---------------------------------------------------------------------------\u001b[0m",
      "\u001b[1;31mTypeError\u001b[0m                                 Traceback (most recent call last)",
      "\u001b[1;32m~\\AppData\\Local\\Temp/ipykernel_18420/1091765157.py\u001b[0m in \u001b[0;36m<module>\u001b[1;34m\u001b[0m\n\u001b[1;32m----> 1\u001b[1;33m \u001b[0morder\u001b[0m \u001b[1;33m=\u001b[0m \u001b[0mint\u001b[0m\u001b[1;33m(\u001b[0m\u001b[0minput\u001b[0m\u001b[1;33m(\u001b[0m\u001b[1;34m'How much coffee cups would you like to order? '\u001b[0m\u001b[1;33m)\u001b[0m\u001b[1;33m)\u001b[0m\u001b[1;33m\u001b[0m\u001b[1;33m\u001b[0m\u001b[0m\n\u001b[0m\u001b[0;32m      2\u001b[0m \u001b[0mbonus_cups\u001b[0m \u001b[1;33m=\u001b[0m \u001b[0morder\u001b[0m\u001b[1;33m//\u001b[0m\u001b[1;36m6\u001b[0m\u001b[1;33m\u001b[0m\u001b[1;33m\u001b[0m\u001b[0m\n\u001b[0;32m      3\u001b[0m \u001b[0mprint\u001b[0m \u001b[1;33m(\u001b[0m\u001b[0mbonus_cups\u001b[0m\u001b[1;33m)\u001b[0m\u001b[1;33m\u001b[0m\u001b[1;33m\u001b[0m\u001b[0m\n",
      "\u001b[1;31mTypeError\u001b[0m: 'str' object is not callable"
     ]
    }
   ],
   "source": [
    "order = int(input('How much coffee cups would you like to order? '))\n",
    "bonus_cups = order//6\n",
    "print (bonus_cups)"
   ]
  },
  {
   "cell_type": "code",
   "execution_count": 1,
   "metadata": {},
   "outputs": [
    {
     "name": "stdout",
     "output_type": "stream",
     "text": [
      "Distance between the points is 5.00\n"
     ]
    }
   ],
   "source": [
    "import math\n",
    "\n",
    "first_point_x = int(input(\"Please, provide X coordinate of the first point\"))\n",
    "first_point_y = int(input(\"Please, provide У coordinate of the first point\"))\n",
    "second_point_x = int(input(\"Please, provide X coordinate of the second point\"))\n",
    "second_point_y = int(input(\"Please, provide Y coordinate of the second point\"))\n",
    "\n",
    "x_dist = abs(second_point_x - first_point_x)\n",
    "y_dist = abs(second_point_y - first_point_y)\n",
    "dist = math.sqrt(x_dist**2 + y_dist**2)\n",
    "\n",
    "print(f'Distance between the points is {dist:3.2f}')"
   ]
  },
  {
   "cell_type": "code",
   "execution_count": 2,
   "metadata": {},
   "outputs": [
    {
     "name": "stdout",
     "output_type": "stream",
     "text": [
      "['0', '3', '4', '0']\n",
      "Distance between the points is 5.00\n"
     ]
    }
   ],
   "source": [
    "import math\n",
    "\n",
    "input = input(\"Please, provide X,Y coordinate of the points divided with ',':\")\n",
    "coordinates = input.split(',')\n",
    "print(coordinates)\n",
    "\n",
    "first_point_x = int(coordinates[0])\n",
    "first_point_y = int(coordinates[1])\n",
    "second_point_x = int(coordinates[2])\n",
    "second_point_y = int(coordinates[3])\n",
    "\n",
    "\n",
    "x_dist = abs(second_point_x - first_point_x)\n",
    "y_dist = abs(second_point_y - first_point_y)\n",
    "dist = math.sqrt(x_dist**2 + y_dist**2)\n",
    "\n",
    "print(f'Distance between the points is {dist:3.2f}')"
   ]
  },
  {
   "cell_type": "code",
   "execution_count": 1,
   "metadata": {},
   "outputs": [
    {
     "name": "stdout",
     "output_type": "stream",
     "text": [
      "Total quantity of legs on the farm is 120\n"
     ]
    }
   ],
   "source": [
    "data = input(\"Please, provide quantity of cows, pigs and hens divided ',':\")\n",
    "animals = data.split(',')\n",
    "\n",
    "cows = int(animals[0])\n",
    "pigs = int(animals[1])\n",
    "hens = int(animals[2])\n",
    "\n",
    "legs = cows*4 + pigs*4 + hens*2\n",
    "\n",
    "print(f'Total quantity of legs on the farm is {legs}')"
   ]
  },
  {
   "cell_type": "code",
   "execution_count": null,
   "metadata": {},
   "outputs": [],
   "source": []
  }
 ],
 "metadata": {
  "interpreter": {
   "hash": "183bbf6827d058c2a2fb0f4acdc0420849dda2b4380af0e437e38c64d798d8b7"
  },
  "kernelspec": {
   "display_name": "Python 3.9.7 ('base')",
   "language": "python",
   "name": "python3"
  },
  "language_info": {
   "codemirror_mode": {
    "name": "ipython",
    "version": 3
   },
   "file_extension": ".py",
   "mimetype": "text/x-python",
   "name": "python",
   "nbconvert_exporter": "python",
   "pygments_lexer": "ipython3",
   "version": "3.9.7"
  },
  "orig_nbformat": 4
 },
 "nbformat": 4,
 "nbformat_minor": 2
}
