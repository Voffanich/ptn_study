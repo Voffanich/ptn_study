{
 "cells": [
  {
   "cell_type": "code",
   "execution_count": 20,
   "metadata": {},
   "outputs": [],
   "source": [
    "def stick_game():\n",
    "    sticks = int(input('Number of sticks to play'))\n",
    "    p1_name = input('Player 1 name: ')\n",
    "    p2_name = input('Player 2 name: ')\n",
    "    players = [0, p1_name, p2_name]\n",
    "    player = 1\n",
    "\n",
    "    print(f\"Let's begin, here we've got {sticks} on the table\")\n",
    "    while sticks > 1:\n",
    "\n",
    "        roll = int(input(f'{players[player]}, please, take your sticks'))\n",
    "        if roll > 0 and roll < 4:\n",
    "            sticks -= roll\n",
    "            print(f\"{sticks} left!\")\n",
    "            player *= -1\n",
    "        else:\n",
    "            print('You can take 1-3 stick only!')\n",
    "    \n",
    "    print(players[player * -1] + ' win! Congratulations!')\n"
   ]
  },
  {
   "cell_type": "code",
   "execution_count": 22,
   "metadata": {},
   "outputs": [
    {
     "name": "stdout",
     "output_type": "stream",
     "text": [
      "Let's begin, here we've got 20 on the table\n",
      "18 left!\n",
      "You can take 1-3 stick only!\n",
      "16 left!\n",
      "13 left!\n",
      "11 left!\n",
      "8 left!\n",
      "5 left!\n",
      "4 left!\n",
      "2 left!\n",
      "1 left!\n",
      "Bo win! Congratulations!\n"
     ]
    }
   ],
   "source": [
    "stick_game()\n"
   ]
  },
  {
   "cell_type": "code",
   "execution_count": null,
   "metadata": {},
   "outputs": [],
   "source": []
  },
  {
   "cell_type": "code",
   "execution_count": null,
   "metadata": {},
   "outputs": [],
   "source": []
  }
 ],
 "metadata": {
  "interpreter": {
   "hash": "183bbf6827d058c2a2fb0f4acdc0420849dda2b4380af0e437e38c64d798d8b7"
  },
  "kernelspec": {
   "display_name": "Python 3.9.7 ('base')",
   "language": "python",
   "name": "python3"
  },
  "language_info": {
   "codemirror_mode": {
    "name": "ipython",
    "version": 3
   },
   "file_extension": ".py",
   "mimetype": "text/x-python",
   "name": "python",
   "nbconvert_exporter": "python",
   "pygments_lexer": "ipython3",
   "version": "3.9.7"
  },
  "orig_nbformat": 4
 },
 "nbformat": 4,
 "nbformat_minor": 2
}
