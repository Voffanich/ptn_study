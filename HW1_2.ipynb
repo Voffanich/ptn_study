{
 "cells": [
  {
   "cell_type": "code",
   "execution_count": 4,
   "metadata": {},
   "outputs": [
    {
     "name": "stdout",
     "output_type": "stream",
     "text": [
      "*\n",
      "**\n",
      "***\n",
      "****\n",
      "*****\n"
     ]
    }
   ],
   "source": [
    "rows = int(input(\"Number of rows please: \"))\n",
    "str = ''\n",
    "\n",
    "for i in range(0,rows):\n",
    "    str += '*'\n",
    "    print(str)\n",
    "    "
   ]
  },
  {
   "cell_type": "code",
   "execution_count": 8,
   "metadata": {},
   "outputs": [
    {
     "name": "stdout",
     "output_type": "stream",
     "text": [
      "0 is EVEN\n",
      "1 is ODD\n",
      "2 is EVEN\n",
      "3 is ODD\n",
      "4 is EVEN\n",
      "5 is ODD\n"
     ]
    }
   ],
   "source": [
    "nums = int(input(\"Please, provide with a number: \"))\n",
    "\n",
    "for i in range(0,nums+1):\n",
    "    if i%2 == 0:\n",
    "        print(f'{i} is EVEN')\n",
    "    else:\n",
    "        print(f'{i} is ODD')"
   ]
  },
  {
   "cell_type": "code",
   "execution_count": null,
   "metadata": {},
   "outputs": [],
   "source": []
  }
 ],
 "metadata": {
  "interpreter": {
   "hash": "183bbf6827d058c2a2fb0f4acdc0420849dda2b4380af0e437e38c64d798d8b7"
  },
  "kernelspec": {
   "display_name": "Python 3.9.7 ('base')",
   "language": "python",
   "name": "python3"
  },
  "language_info": {
   "codemirror_mode": {
    "name": "ipython",
    "version": 3
   },
   "file_extension": ".py",
   "mimetype": "text/x-python",
   "name": "python",
   "nbconvert_exporter": "python",
   "pygments_lexer": "ipython3",
   "version": "3.9.7"
  },
  "orig_nbformat": 4
 },
 "nbformat": 4,
 "nbformat_minor": 2
}
