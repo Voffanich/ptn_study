{
 "cells": [
  {
   "cell_type": "code",
   "execution_count": 8,
   "metadata": {},
   "outputs": [],
   "source": [
    "def whos_first(p1: str, p2: str):\n",
    "    p1_time = 0\n",
    "    p2_time = 0\n",
    "    \n",
    "    for i in p1:\n",
    "        if i == \" \":\n",
    "            p1_time += 1\n",
    "        else:\n",
    "            break\n",
    "      \n",
    "    for i in p2:\n",
    "        if i == \" \":\n",
    "            p2_time += 1\n",
    "        else:\n",
    "            break         \n",
    "    \n",
    "    \n",
    "    if p1_time == p2_time:\n",
    "        return \"tie\"\n",
    "    elif p1_time > p2_time:\n",
    "        return \"p2\"\n",
    "    elif p1_time < p2_time:\n",
    "        return \"p1\"\n",
    "    else:\n",
    "        return \"Hernya kakaya-to\""
   ]
  },
  {
   "cell_type": "code",
   "execution_count": 12,
   "metadata": {},
   "outputs": [
    {
     "name": "stdout",
     "output_type": "stream",
     "text": [
      "4\n",
      "5\n"
     ]
    },
    {
     "data": {
      "text/plain": [
       "'p1'"
      ]
     },
     "execution_count": 12,
     "metadata": {},
     "output_type": "execute_result"
    }
   ],
   "source": [
    "whos_first('    jj  ', '     dlkj        ')"
   ]
  },
  {
   "cell_type": "code",
   "execution_count": null,
   "metadata": {},
   "outputs": [],
   "source": []
  }
 ],
 "metadata": {
  "interpreter": {
   "hash": "b3ba2566441a7c06988d0923437866b63cedc61552a5af99d1f4fb67d367b25f"
  },
  "kernelspec": {
   "display_name": "Python 3.9.7 ('base')",
   "language": "python",
   "name": "python3"
  },
  "language_info": {
   "codemirror_mode": {
    "name": "ipython",
    "version": 3
   },
   "file_extension": ".py",
   "mimetype": "text/x-python",
   "name": "python",
   "nbconvert_exporter": "python",
   "pygments_lexer": "ipython3",
   "version": "3.9.7"
  },
  "orig_nbformat": 4
 },
 "nbformat": 4,
 "nbformat_minor": 2
}
